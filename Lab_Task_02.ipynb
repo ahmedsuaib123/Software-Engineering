{
  "nbformat": 4,
  "nbformat_minor": 0,
  "metadata": {
    "colab": {
      "provenance": []
    },
    "kernelspec": {
      "name": "python3",
      "display_name": "Python 3"
    },
    "language_info": {
      "name": "python"
    }
  },
  "cells": [
    {
      "cell_type": "markdown",
      "source": [
        "# **20 Moderate-Level Python Exercises (AI Lab – Extended Practice) **"
      ],
      "metadata": {
        "id": "B0hoFhTOW_ds"
      }
    },
    {
      "cell_type": "markdown",
      "source": [
        "**1. List Operations**\n",
        "\n",
        "Create a list of numbers.\n",
        "\n",
        "• Remove duplicates\n",
        "\n",
        "• Find the maximum, minimum, and average manually (without built-in max() or sum())"
      ],
      "metadata": {
        "id": "SiOmwqyHZp3v"
      }
    },
    {
      "cell_type": "code",
      "execution_count": null,
      "metadata": {
        "id": "z78fO5jSW0Dr"
      },
      "outputs": [],
      "source": []
    },
    {
      "cell_type": "markdown",
      "source": [
        "**2. List Filtering**\n",
        "\n",
        "Given a list of integers, create a new list containing only numbers divisible by 3."
      ],
      "metadata": {
        "id": "y59I8NaYZ-yN"
      }
    },
    {
      "cell_type": "code",
      "source": [],
      "metadata": {
        "id": "zIH86_wMaC5p"
      },
      "execution_count": null,
      "outputs": []
    },
    {
      "cell_type": "markdown",
      "source": [
        "**3. Tuple to List Conversion**\n",
        "\n",
        "Take a tuple (10, 20, 30, 40) →\n",
        "\n",
        "Convert it to a list, add one new element, and convert it back to a tuple."
      ],
      "metadata": {
        "id": "fYF7v-05aDPF"
      }
    },
    {
      "cell_type": "code",
      "source": [],
      "metadata": {
        "id": "tAcymiHBaPfK"
      },
      "execution_count": null,
      "outputs": []
    },
    {
      "cell_type": "markdown",
      "source": [
        "**4. Merge Two Lists **\n",
        "\n",
        "Given two lists [1,2,3] and [4,5,6], merge them and remove the middle element."
      ],
      "metadata": {
        "id": "cMU4HhHkaUMX"
      }
    },
    {
      "cell_type": "code",
      "source": [],
      "metadata": {
        "id": "clOJS6Ywab8Z"
      },
      "execution_count": null,
      "outputs": []
    },
    {
      "cell_type": "markdown",
      "source": [
        "**5. Unique Values from a List**\n",
        "\n",
        "Write a program that reads 10 integers from the user and prints only the unique ones using a\n",
        "set."
      ],
      "metadata": {
        "id": "bINWPjbEadd2"
      }
    },
    {
      "cell_type": "code",
      "source": [],
      "metadata": {
        "id": "mu3EhJrSaeZA"
      },
      "execution_count": null,
      "outputs": []
    },
    {
      "cell_type": "markdown",
      "source": [
        "**6. Dictionary Value Update**\n",
        "\n",
        "You are given:\n",
        "\n",
        "student = {\"name\": \"Rafi\", \"marks\": [70, 80, 90]}\n",
        "\n",
        "Add a new subject mark and calculate the new average."
      ],
      "metadata": {
        "id": "YTFv8FlRaQAN"
      }
    },
    {
      "cell_type": "code",
      "source": [],
      "metadata": {
        "id": "JMmRakJtag2x"
      },
      "execution_count": null,
      "outputs": []
    },
    {
      "cell_type": "markdown",
      "source": [
        "**7. Reverse Dictionary**\n",
        "\n",
        "Create a dictionary of fruits:\n",
        "\n",
        "{\"apple\": 1, \"banana\": 2, \"mango\": 3}\n",
        "\n",
        "Then create another dictionary where keys and values are swapped."
      ],
      "metadata": {
        "id": "cRei-Z_kbEOP"
      }
    },
    {
      "cell_type": "code",
      "source": [],
      "metadata": {
        "id": "8aZGjHVOd_vO"
      },
      "execution_count": null,
      "outputs": []
    },
    {
      "cell_type": "markdown",
      "source": [
        "**8. Count Characters in a String**\n",
        "\n",
        "Take an input string and store the count of each character in a dictionary.\n",
        "\n",
        "(e.g., \"hello\" → {'h':1, 'e':1, 'l':2, 'o':1})"
      ],
      "metadata": {
        "id": "t-VycX78eAE6"
      }
    },
    {
      "cell_type": "code",
      "source": [],
      "metadata": {
        "id": "DKL-kqCReIwe"
      },
      "execution_count": null,
      "outputs": []
    },
    {
      "cell_type": "markdown",
      "source": [
        "**9. Stack Simulation**\n",
        "\n",
        "Use a list as a stack.\n",
        "\n",
        "Push 3 elements, pop 1, and print the final stack."
      ],
      "metadata": {
        "id": "nSCHzo5beIWd"
      }
    },
    {
      "cell_type": "code",
      "source": [],
      "metadata": {
        "id": "-atzIP6DeJ1c"
      },
      "execution_count": null,
      "outputs": []
    },
    {
      "cell_type": "markdown",
      "source": [
        "**10. Queue Simulation**\n",
        "\n",
        "Use a list as a queue.\n",
        "\n",
        "Add 3 elements, remove one from the front, and print the queue."
      ],
      "metadata": {
        "id": "KzYMWjYdeXSJ"
      }
    },
    {
      "cell_type": "code",
      "source": [],
      "metadata": {
        "id": "_OKVDxpPee5X"
      },
      "execution_count": null,
      "outputs": []
    },
    {
      "cell_type": "markdown",
      "source": [
        "**11. Function with Default Argument **\n",
        "\n",
        "Write a function that calculates simple interest:\n",
        "\n",
        "SI = (p * r * t) / 100\n",
        "\n",
        "where r = 5% by default if not provided."
      ],
      "metadata": {
        "id": "nGZtUXxOefUH"
      }
    },
    {
      "cell_type": "code",
      "source": [],
      "metadata": {
        "id": "hg1B0Rv8ersc"
      },
      "execution_count": null,
      "outputs": []
    },
    {
      "cell_type": "markdown",
      "source": [
        "**12. Function Returning Multiple Values**\n",
        "\n",
        "Write a function that takes two numbers and returns their sum and difference."
      ],
      "metadata": {
        "id": "MZ9o58raesJL"
      }
    },
    {
      "cell_type": "code",
      "source": [],
      "metadata": {
        "id": "1CQGdP2me2li"
      },
      "execution_count": null,
      "outputs": []
    },
    {
      "cell_type": "markdown",
      "source": [
        "**13. List Processing with Function**\n",
        "\n",
        "Write a function that takes a list of numbers and returns a new list of their squares."
      ],
      "metadata": {
        "id": "A6l3EC9ue25j"
      }
    },
    {
      "cell_type": "code",
      "source": [],
      "metadata": {
        "id": "JNeKxji-e8RP"
      },
      "execution_count": null,
      "outputs": []
    },
    {
      "cell_type": "markdown",
      "source": [
        "**14. File Write & Read**\n",
        "\n",
        "Write a program to:\n",
        "\n",
        "• Take 5 names from the user,\n",
        "\n",
        "• Write them to a text file,\n",
        "\n",
        "• Then read and print all names."
      ],
      "metadata": {
        "id": "N9sgLfGre8vg"
      }
    },
    {
      "cell_type": "code",
      "source": [],
      "metadata": {
        "id": "Iqie5JPafPt9"
      },
      "execution_count": null,
      "outputs": []
    },
    {
      "cell_type": "markdown",
      "source": [
        "**15. Count Lines in File**\n",
        "\n",
        "Write a program that counts how many lines are in a text file."
      ],
      "metadata": {
        "id": "maXod0tpfQKK"
      }
    },
    {
      "cell_type": "code",
      "source": [],
      "metadata": {
        "id": "Yd-JhNg1fYGC"
      },
      "execution_count": null,
      "outputs": []
    },
    {
      "cell_type": "markdown",
      "source": [
        "**16. Using random Library**\n",
        "\n",
        "Generate a random list of 10 integers (1–50).\n",
        "Print the highest and lowest random number."
      ],
      "metadata": {
        "id": "4sYBjiUpfYiV"
      }
    },
    {
      "cell_type": "code",
      "source": [],
      "metadata": {
        "id": "xO9hJq5mfc8T"
      },
      "execution_count": null,
      "outputs": []
    },
    {
      "cell_type": "markdown",
      "source": [
        "**17. Using math Library**\n",
        "\n",
        "Ask the user for a number and print:\n",
        "\n",
        "• Its square root\n",
        "\n",
        "• Its factorial\n",
        "\n",
        "• Its power (raised to 3)"
      ],
      "metadata": {
        "id": "ypo9I3UtfcgJ"
      }
    },
    {
      "cell_type": "code",
      "source": [],
      "metadata": {
        "id": "y3Osv-mIfkdF"
      },
      "execution_count": null,
      "outputs": []
    },
    {
      "cell_type": "markdown",
      "source": [
        "**18. Using numpy**\n",
        "\n",
        "Create a NumPy array of numbers from 1–10.\n",
        "\n",
        "Print the sum, mean, and the array multiplied by 2."
      ],
      "metadata": {
        "id": "X6Yrp-8Pflm0"
      }
    },
    {
      "cell_type": "code",
      "source": [],
      "metadata": {
        "id": "lx1DIX7PflMf"
      },
      "execution_count": null,
      "outputs": []
    },
    {
      "cell_type": "markdown",
      "source": [
        "**19. Using pandas**\n",
        "\n",
        "Create a simple DataFrame of 3 students with their marks.\n",
        "\n",
        "Print the average mark of all students."
      ],
      "metadata": {
        "id": "-QabI8mnfkxa"
      }
    },
    {
      "cell_type": "code",
      "source": [],
      "metadata": {
        "id": "bKWgMAAmfzOS"
      },
      "execution_count": null,
      "outputs": []
    },
    {
      "cell_type": "markdown",
      "source": [
        "**20. OOP – Stack Class**\n",
        "\n",
        "Create a Stack class with:\n",
        "\n",
        "• push, pop, and display methods\n",
        "\n",
        "•Then demonstrate pushing and popping 3 elements."
      ],
      "metadata": {
        "id": "sICow_yOfz0T"
      }
    },
    {
      "cell_type": "code",
      "source": [],
      "metadata": {
        "id": "pFy5th19gPIM"
      },
      "execution_count": null,
      "outputs": []
    },
    {
      "cell_type": "markdown",
      "source": [
        "# ** Bonus (Optional):**\n",
        "\n",
        "Write a small program that reads student names and marks from a file and stores them in a\n",
        "dictionary — key as name, value as marks."
      ],
      "metadata": {
        "id": "1gfI2tPxgPdP"
      }
    },
    {
      "cell_type": "code",
      "source": [],
      "metadata": {
        "id": "KXf5OTRWgfWz"
      },
      "execution_count": null,
      "outputs": []
    }
  ]
}